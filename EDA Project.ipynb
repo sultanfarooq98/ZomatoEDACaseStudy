{
 "cells": [
  {
   "cell_type": "code",
   "execution_count": 1,
   "id": "0e9425fb-6be3-4068-89f8-fb426d2d25a2",
   "metadata": {},
   "outputs": [],
   "source": [
    "import pandas as pd\n",
    "import numpy as np\n",
    "import matplotlib.pyplot as plt\n",
    "import seaborn as sns\n",
    "%matplotlib inline"
   ]
  },
  {
   "cell_type": "markdown",
   "id": "62cbe16c",
   "metadata": {},
   "source": [
    "Data Cleaning and Preparation"
   ]
  },
  {
   "cell_type": "code",
   "execution_count": 2,
   "id": "2ddf7e76",
   "metadata": {},
   "outputs": [
    {
     "data": {
      "text/html": [
       "<div>\n",
       "<style scoped>\n",
       "    .dataframe tbody tr th:only-of-type {\n",
       "        vertical-align: middle;\n",
       "    }\n",
       "\n",
       "    .dataframe tbody tr th {\n",
       "        vertical-align: top;\n",
       "    }\n",
       "\n",
       "    .dataframe thead th {\n",
       "        text-align: right;\n",
       "    }\n",
       "</style>\n",
       "<table border=\"1\" class=\"dataframe\">\n",
       "  <thead>\n",
       "    <tr style=\"text-align: right;\">\n",
       "      <th></th>\n",
       "      <th>res_id</th>\n",
       "      <th>name</th>\n",
       "      <th>establishment</th>\n",
       "      <th>url</th>\n",
       "      <th>address</th>\n",
       "      <th>city</th>\n",
       "      <th>city_id</th>\n",
       "      <th>locality</th>\n",
       "      <th>latitude</th>\n",
       "      <th>longitude</th>\n",
       "      <th>...</th>\n",
       "      <th>price_range</th>\n",
       "      <th>currency</th>\n",
       "      <th>highlights</th>\n",
       "      <th>aggregate_rating</th>\n",
       "      <th>rating_text</th>\n",
       "      <th>votes</th>\n",
       "      <th>photo_count</th>\n",
       "      <th>opentable_support</th>\n",
       "      <th>delivery</th>\n",
       "      <th>takeaway</th>\n",
       "    </tr>\n",
       "  </thead>\n",
       "  <tbody>\n",
       "    <tr>\n",
       "      <th>0</th>\n",
       "      <td>3400299</td>\n",
       "      <td>Bikanervala</td>\n",
       "      <td>['Quick Bites']</td>\n",
       "      <td>https://www.zomato.com/agra/bikanervala-khanda...</td>\n",
       "      <td>Kalyani Point, Near Tulsi Cinema, Bypass Road,...</td>\n",
       "      <td>Agra</td>\n",
       "      <td>34</td>\n",
       "      <td>Khandari</td>\n",
       "      <td>27.211450</td>\n",
       "      <td>78.002381</td>\n",
       "      <td>...</td>\n",
       "      <td>2</td>\n",
       "      <td>Rs.</td>\n",
       "      <td>['Lunch', 'Takeaway Available', 'Credit Card',...</td>\n",
       "      <td>4.4</td>\n",
       "      <td>Very Good</td>\n",
       "      <td>814</td>\n",
       "      <td>154</td>\n",
       "      <td>0.0</td>\n",
       "      <td>-1</td>\n",
       "      <td>-1</td>\n",
       "    </tr>\n",
       "    <tr>\n",
       "      <th>1</th>\n",
       "      <td>3400005</td>\n",
       "      <td>Mama Chicken Mama Franky House</td>\n",
       "      <td>['Quick Bites']</td>\n",
       "      <td>https://www.zomato.com/agra/mama-chicken-mama-...</td>\n",
       "      <td>Main Market, Sadar Bazaar, Agra Cantt, Agra</td>\n",
       "      <td>Agra</td>\n",
       "      <td>34</td>\n",
       "      <td>Agra Cantt</td>\n",
       "      <td>27.160569</td>\n",
       "      <td>78.011583</td>\n",
       "      <td>...</td>\n",
       "      <td>2</td>\n",
       "      <td>Rs.</td>\n",
       "      <td>['Delivery', 'No Alcohol Available', 'Dinner',...</td>\n",
       "      <td>4.4</td>\n",
       "      <td>Very Good</td>\n",
       "      <td>1203</td>\n",
       "      <td>161</td>\n",
       "      <td>0.0</td>\n",
       "      <td>-1</td>\n",
       "      <td>-1</td>\n",
       "    </tr>\n",
       "    <tr>\n",
       "      <th>2</th>\n",
       "      <td>3401013</td>\n",
       "      <td>Bhagat Halwai</td>\n",
       "      <td>['Quick Bites']</td>\n",
       "      <td>https://www.zomato.com/agra/bhagat-halwai-2-sh...</td>\n",
       "      <td>62/1, Near Easy Day, West Shivaji Nagar, Goalp...</td>\n",
       "      <td>Agra</td>\n",
       "      <td>34</td>\n",
       "      <td>Shahganj</td>\n",
       "      <td>27.182938</td>\n",
       "      <td>77.979684</td>\n",
       "      <td>...</td>\n",
       "      <td>1</td>\n",
       "      <td>Rs.</td>\n",
       "      <td>['No Alcohol Available', 'Dinner', 'Takeaway A...</td>\n",
       "      <td>4.2</td>\n",
       "      <td>Very Good</td>\n",
       "      <td>801</td>\n",
       "      <td>107</td>\n",
       "      <td>0.0</td>\n",
       "      <td>1</td>\n",
       "      <td>-1</td>\n",
       "    </tr>\n",
       "    <tr>\n",
       "      <th>3</th>\n",
       "      <td>3400290</td>\n",
       "      <td>Bhagat Halwai</td>\n",
       "      <td>['Quick Bites']</td>\n",
       "      <td>https://www.zomato.com/agra/bhagat-halwai-civi...</td>\n",
       "      <td>Near Anjana Cinema, Nehru Nagar, Civil Lines, ...</td>\n",
       "      <td>Agra</td>\n",
       "      <td>34</td>\n",
       "      <td>Civil Lines</td>\n",
       "      <td>27.205668</td>\n",
       "      <td>78.004799</td>\n",
       "      <td>...</td>\n",
       "      <td>1</td>\n",
       "      <td>Rs.</td>\n",
       "      <td>['Takeaway Available', 'Credit Card', 'Lunch',...</td>\n",
       "      <td>4.3</td>\n",
       "      <td>Very Good</td>\n",
       "      <td>693</td>\n",
       "      <td>157</td>\n",
       "      <td>0.0</td>\n",
       "      <td>1</td>\n",
       "      <td>-1</td>\n",
       "    </tr>\n",
       "    <tr>\n",
       "      <th>4</th>\n",
       "      <td>3401744</td>\n",
       "      <td>The Salt Cafe Kitchen &amp; Bar</td>\n",
       "      <td>['Casual Dining']</td>\n",
       "      <td>https://www.zomato.com/agra/the-salt-cafe-kitc...</td>\n",
       "      <td>1C,3rd Floor, Fatehabad Road, Tajganj, Agra</td>\n",
       "      <td>Agra</td>\n",
       "      <td>34</td>\n",
       "      <td>Tajganj</td>\n",
       "      <td>27.157709</td>\n",
       "      <td>78.052421</td>\n",
       "      <td>...</td>\n",
       "      <td>3</td>\n",
       "      <td>Rs.</td>\n",
       "      <td>['Lunch', 'Serves Alcohol', 'Cash', 'Credit Ca...</td>\n",
       "      <td>4.9</td>\n",
       "      <td>Excellent</td>\n",
       "      <td>470</td>\n",
       "      <td>291</td>\n",
       "      <td>0.0</td>\n",
       "      <td>1</td>\n",
       "      <td>-1</td>\n",
       "    </tr>\n",
       "  </tbody>\n",
       "</table>\n",
       "<p>5 rows × 26 columns</p>\n",
       "</div>"
      ],
      "text/plain": [
       "    res_id                            name      establishment  \\\n",
       "0  3400299                     Bikanervala    ['Quick Bites']   \n",
       "1  3400005  Mama Chicken Mama Franky House    ['Quick Bites']   \n",
       "2  3401013                   Bhagat Halwai    ['Quick Bites']   \n",
       "3  3400290                   Bhagat Halwai    ['Quick Bites']   \n",
       "4  3401744     The Salt Cafe Kitchen & Bar  ['Casual Dining']   \n",
       "\n",
       "                                                 url  \\\n",
       "0  https://www.zomato.com/agra/bikanervala-khanda...   \n",
       "1  https://www.zomato.com/agra/mama-chicken-mama-...   \n",
       "2  https://www.zomato.com/agra/bhagat-halwai-2-sh...   \n",
       "3  https://www.zomato.com/agra/bhagat-halwai-civi...   \n",
       "4  https://www.zomato.com/agra/the-salt-cafe-kitc...   \n",
       "\n",
       "                                             address  city  city_id  \\\n",
       "0  Kalyani Point, Near Tulsi Cinema, Bypass Road,...  Agra       34   \n",
       "1        Main Market, Sadar Bazaar, Agra Cantt, Agra  Agra       34   \n",
       "2  62/1, Near Easy Day, West Shivaji Nagar, Goalp...  Agra       34   \n",
       "3  Near Anjana Cinema, Nehru Nagar, Civil Lines, ...  Agra       34   \n",
       "4        1C,3rd Floor, Fatehabad Road, Tajganj, Agra  Agra       34   \n",
       "\n",
       "      locality   latitude  longitude  ... price_range  currency  \\\n",
       "0     Khandari  27.211450  78.002381  ...           2       Rs.   \n",
       "1   Agra Cantt  27.160569  78.011583  ...           2       Rs.   \n",
       "2     Shahganj  27.182938  77.979684  ...           1       Rs.   \n",
       "3  Civil Lines  27.205668  78.004799  ...           1       Rs.   \n",
       "4      Tajganj  27.157709  78.052421  ...           3       Rs.   \n",
       "\n",
       "                                          highlights aggregate_rating  \\\n",
       "0  ['Lunch', 'Takeaway Available', 'Credit Card',...              4.4   \n",
       "1  ['Delivery', 'No Alcohol Available', 'Dinner',...              4.4   \n",
       "2  ['No Alcohol Available', 'Dinner', 'Takeaway A...              4.2   \n",
       "3  ['Takeaway Available', 'Credit Card', 'Lunch',...              4.3   \n",
       "4  ['Lunch', 'Serves Alcohol', 'Cash', 'Credit Ca...              4.9   \n",
       "\n",
       "  rating_text  votes  photo_count opentable_support delivery  takeaway  \n",
       "0   Very Good    814          154               0.0       -1        -1  \n",
       "1   Very Good   1203          161               0.0       -1        -1  \n",
       "2   Very Good    801          107               0.0        1        -1  \n",
       "3   Very Good    693          157               0.0        1        -1  \n",
       "4   Excellent    470          291               0.0        1        -1  \n",
       "\n",
       "[5 rows x 26 columns]"
      ]
     },
     "execution_count": 2,
     "metadata": {},
     "output_type": "execute_result"
    }
   ],
   "source": [
    "df = pd.read_csv(\"zomato_restaurants_in_India.csv\")\n",
    "df.head()"
   ]
  },
  {
   "cell_type": "code",
   "execution_count": 3,
   "id": "dec42147",
   "metadata": {},
   "outputs": [
    {
     "data": {
      "text/plain": [
       "Index(['res_id', 'name', 'establishment', 'url', 'address', 'city', 'city_id',\n",
       "       'locality', 'latitude', 'longitude', 'zipcode', 'country_id',\n",
       "       'locality_verbose', 'cuisines', 'timings', 'average_cost_for_two',\n",
       "       'price_range', 'currency', 'highlights', 'aggregate_rating',\n",
       "       'rating_text', 'votes', 'photo_count', 'opentable_support', 'delivery',\n",
       "       'takeaway'],\n",
       "      dtype='object')"
      ]
     },
     "execution_count": 3,
     "metadata": {},
     "output_type": "execute_result"
    }
   ],
   "source": [
    "df.columns"
   ]
  },
  {
   "cell_type": "code",
   "execution_count": 4,
   "id": "05112b5b",
   "metadata": {},
   "outputs": [
    {
     "name": "stdout",
     "output_type": "stream",
     "text": [
      "<class 'pandas.core.frame.DataFrame'>\n",
      "RangeIndex: 211944 entries, 0 to 211943\n",
      "Data columns (total 26 columns):\n",
      " #   Column                Non-Null Count   Dtype  \n",
      "---  ------                --------------   -----  \n",
      " 0   res_id                211944 non-null  int64  \n",
      " 1   name                  211944 non-null  object \n",
      " 2   establishment         211944 non-null  object \n",
      " 3   url                   211944 non-null  object \n",
      " 4   address               211810 non-null  object \n",
      " 5   city                  211944 non-null  object \n",
      " 6   city_id               211944 non-null  int64  \n",
      " 7   locality              211944 non-null  object \n",
      " 8   latitude              211944 non-null  float64\n",
      " 9   longitude             211944 non-null  float64\n",
      " 10  zipcode               48757 non-null   object \n",
      " 11  country_id            211944 non-null  int64  \n",
      " 12  locality_verbose      211944 non-null  object \n",
      " 13  cuisines              210553 non-null  object \n",
      " 14  timings               208070 non-null  object \n",
      " 15  average_cost_for_two  211944 non-null  int64  \n",
      " 16  price_range           211944 non-null  int64  \n",
      " 17  currency              211944 non-null  object \n",
      " 18  highlights            211944 non-null  object \n",
      " 19  aggregate_rating      211944 non-null  float64\n",
      " 20  rating_text           211944 non-null  object \n",
      " 21  votes                 211944 non-null  int64  \n",
      " 22  photo_count           211944 non-null  int64  \n",
      " 23  opentable_support     211896 non-null  float64\n",
      " 24  delivery              211944 non-null  int64  \n",
      " 25  takeaway              211944 non-null  int64  \n",
      "dtypes: float64(4), int64(9), object(13)\n",
      "memory usage: 42.0+ MB\n"
     ]
    }
   ],
   "source": [
    "df.info()"
   ]
  },
  {
   "cell_type": "code",
   "execution_count": 5,
   "id": "f9e668c8",
   "metadata": {},
   "outputs": [
    {
     "data": {
      "text/html": [
       "<div>\n",
       "<style scoped>\n",
       "    .dataframe tbody tr th:only-of-type {\n",
       "        vertical-align: middle;\n",
       "    }\n",
       "\n",
       "    .dataframe tbody tr th {\n",
       "        vertical-align: top;\n",
       "    }\n",
       "\n",
       "    .dataframe thead th {\n",
       "        text-align: right;\n",
       "    }\n",
       "</style>\n",
       "<table border=\"1\" class=\"dataframe\">\n",
       "  <thead>\n",
       "    <tr style=\"text-align: right;\">\n",
       "      <th></th>\n",
       "      <th>res_id</th>\n",
       "      <th>city_id</th>\n",
       "      <th>latitude</th>\n",
       "      <th>longitude</th>\n",
       "      <th>country_id</th>\n",
       "      <th>average_cost_for_two</th>\n",
       "      <th>price_range</th>\n",
       "      <th>aggregate_rating</th>\n",
       "      <th>votes</th>\n",
       "      <th>photo_count</th>\n",
       "      <th>opentable_support</th>\n",
       "      <th>delivery</th>\n",
       "      <th>takeaway</th>\n",
       "    </tr>\n",
       "  </thead>\n",
       "  <tbody>\n",
       "    <tr>\n",
       "      <th>count</th>\n",
       "      <td>2.119440e+05</td>\n",
       "      <td>211944.000000</td>\n",
       "      <td>211944.000000</td>\n",
       "      <td>211944.000000</td>\n",
       "      <td>211944.0</td>\n",
       "      <td>211944.000000</td>\n",
       "      <td>211944.000000</td>\n",
       "      <td>211944.000000</td>\n",
       "      <td>211944.000000</td>\n",
       "      <td>211944.000000</td>\n",
       "      <td>211896.0</td>\n",
       "      <td>211944.000000</td>\n",
       "      <td>211944.0</td>\n",
       "    </tr>\n",
       "    <tr>\n",
       "      <th>mean</th>\n",
       "      <td>1.349411e+07</td>\n",
       "      <td>4746.785434</td>\n",
       "      <td>21.499758</td>\n",
       "      <td>77.615276</td>\n",
       "      <td>1.0</td>\n",
       "      <td>595.812229</td>\n",
       "      <td>1.882535</td>\n",
       "      <td>3.395937</td>\n",
       "      <td>378.001864</td>\n",
       "      <td>256.971224</td>\n",
       "      <td>0.0</td>\n",
       "      <td>-0.255907</td>\n",
       "      <td>-1.0</td>\n",
       "    </tr>\n",
       "    <tr>\n",
       "      <th>std</th>\n",
       "      <td>7.883722e+06</td>\n",
       "      <td>5568.766386</td>\n",
       "      <td>22.781331</td>\n",
       "      <td>7.500104</td>\n",
       "      <td>0.0</td>\n",
       "      <td>606.239363</td>\n",
       "      <td>0.892989</td>\n",
       "      <td>1.283642</td>\n",
       "      <td>925.333370</td>\n",
       "      <td>867.668940</td>\n",
       "      <td>0.0</td>\n",
       "      <td>0.964172</td>\n",
       "      <td>0.0</td>\n",
       "    </tr>\n",
       "    <tr>\n",
       "      <th>min</th>\n",
       "      <td>5.000000e+01</td>\n",
       "      <td>1.000000</td>\n",
       "      <td>0.000000</td>\n",
       "      <td>0.000000</td>\n",
       "      <td>1.0</td>\n",
       "      <td>0.000000</td>\n",
       "      <td>1.000000</td>\n",
       "      <td>0.000000</td>\n",
       "      <td>-18.000000</td>\n",
       "      <td>0.000000</td>\n",
       "      <td>0.0</td>\n",
       "      <td>-1.000000</td>\n",
       "      <td>-1.0</td>\n",
       "    </tr>\n",
       "    <tr>\n",
       "      <th>25%</th>\n",
       "      <td>3.301027e+06</td>\n",
       "      <td>11.000000</td>\n",
       "      <td>15.496071</td>\n",
       "      <td>74.877961</td>\n",
       "      <td>1.0</td>\n",
       "      <td>250.000000</td>\n",
       "      <td>1.000000</td>\n",
       "      <td>3.300000</td>\n",
       "      <td>16.000000</td>\n",
       "      <td>3.000000</td>\n",
       "      <td>0.0</td>\n",
       "      <td>-1.000000</td>\n",
       "      <td>-1.0</td>\n",
       "    </tr>\n",
       "    <tr>\n",
       "      <th>50%</th>\n",
       "      <td>1.869573e+07</td>\n",
       "      <td>34.000000</td>\n",
       "      <td>22.514494</td>\n",
       "      <td>77.425971</td>\n",
       "      <td>1.0</td>\n",
       "      <td>400.000000</td>\n",
       "      <td>2.000000</td>\n",
       "      <td>3.800000</td>\n",
       "      <td>100.000000</td>\n",
       "      <td>18.000000</td>\n",
       "      <td>0.0</td>\n",
       "      <td>-1.000000</td>\n",
       "      <td>-1.0</td>\n",
       "    </tr>\n",
       "    <tr>\n",
       "      <th>75%</th>\n",
       "      <td>1.881297e+07</td>\n",
       "      <td>11306.000000</td>\n",
       "      <td>26.841667</td>\n",
       "      <td>80.219323</td>\n",
       "      <td>1.0</td>\n",
       "      <td>700.000000</td>\n",
       "      <td>2.000000</td>\n",
       "      <td>4.100000</td>\n",
       "      <td>362.000000</td>\n",
       "      <td>128.000000</td>\n",
       "      <td>0.0</td>\n",
       "      <td>1.000000</td>\n",
       "      <td>-1.0</td>\n",
       "    </tr>\n",
       "    <tr>\n",
       "      <th>max</th>\n",
       "      <td>1.915979e+07</td>\n",
       "      <td>11354.000000</td>\n",
       "      <td>10000.000000</td>\n",
       "      <td>91.832769</td>\n",
       "      <td>1.0</td>\n",
       "      <td>30000.000000</td>\n",
       "      <td>4.000000</td>\n",
       "      <td>4.900000</td>\n",
       "      <td>42539.000000</td>\n",
       "      <td>17702.000000</td>\n",
       "      <td>0.0</td>\n",
       "      <td>1.000000</td>\n",
       "      <td>-1.0</td>\n",
       "    </tr>\n",
       "  </tbody>\n",
       "</table>\n",
       "</div>"
      ],
      "text/plain": [
       "             res_id        city_id       latitude      longitude  country_id  \\\n",
       "count  2.119440e+05  211944.000000  211944.000000  211944.000000    211944.0   \n",
       "mean   1.349411e+07    4746.785434      21.499758      77.615276         1.0   \n",
       "std    7.883722e+06    5568.766386      22.781331       7.500104         0.0   \n",
       "min    5.000000e+01       1.000000       0.000000       0.000000         1.0   \n",
       "25%    3.301027e+06      11.000000      15.496071      74.877961         1.0   \n",
       "50%    1.869573e+07      34.000000      22.514494      77.425971         1.0   \n",
       "75%    1.881297e+07   11306.000000      26.841667      80.219323         1.0   \n",
       "max    1.915979e+07   11354.000000   10000.000000      91.832769         1.0   \n",
       "\n",
       "       average_cost_for_two    price_range  aggregate_rating          votes  \\\n",
       "count         211944.000000  211944.000000     211944.000000  211944.000000   \n",
       "mean             595.812229       1.882535          3.395937     378.001864   \n",
       "std              606.239363       0.892989          1.283642     925.333370   \n",
       "min                0.000000       1.000000          0.000000     -18.000000   \n",
       "25%              250.000000       1.000000          3.300000      16.000000   \n",
       "50%              400.000000       2.000000          3.800000     100.000000   \n",
       "75%              700.000000       2.000000          4.100000     362.000000   \n",
       "max            30000.000000       4.000000          4.900000   42539.000000   \n",
       "\n",
       "         photo_count  opentable_support       delivery  takeaway  \n",
       "count  211944.000000           211896.0  211944.000000  211944.0  \n",
       "mean      256.971224                0.0      -0.255907      -1.0  \n",
       "std       867.668940                0.0       0.964172       0.0  \n",
       "min         0.000000                0.0      -1.000000      -1.0  \n",
       "25%         3.000000                0.0      -1.000000      -1.0  \n",
       "50%        18.000000                0.0      -1.000000      -1.0  \n",
       "75%       128.000000                0.0       1.000000      -1.0  \n",
       "max     17702.000000                0.0       1.000000      -1.0  "
      ]
     },
     "execution_count": 5,
     "metadata": {},
     "output_type": "execute_result"
    }
   ],
   "source": [
    "df.describe()"
   ]
  },
  {
   "cell_type": "code",
   "execution_count": 6,
   "id": "f97cccf4",
   "metadata": {},
   "outputs": [
    {
     "data": {
      "text/plain": [
       "(211944, 26)"
      ]
     },
     "execution_count": 6,
     "metadata": {},
     "output_type": "execute_result"
    }
   ],
   "source": [
    "df.shape"
   ]
  },
  {
   "cell_type": "code",
   "execution_count": 7,
   "id": "d8a777ee",
   "metadata": {},
   "outputs": [
    {
     "data": {
      "text/plain": [
       "res_id                       0\n",
       "name                         0\n",
       "establishment                0\n",
       "url                          0\n",
       "address                    134\n",
       "city                         0\n",
       "city_id                      0\n",
       "locality                     0\n",
       "latitude                     0\n",
       "longitude                    0\n",
       "zipcode                 163187\n",
       "country_id                   0\n",
       "locality_verbose             0\n",
       "cuisines                  1391\n",
       "timings                   3874\n",
       "average_cost_for_two         0\n",
       "price_range                  0\n",
       "currency                     0\n",
       "highlights                   0\n",
       "aggregate_rating             0\n",
       "rating_text                  0\n",
       "votes                        0\n",
       "photo_count                  0\n",
       "opentable_support           48\n",
       "delivery                     0\n",
       "takeaway                     0\n",
       "dtype: int64"
      ]
     },
     "execution_count": 7,
     "metadata": {},
     "output_type": "execute_result"
    }
   ],
   "source": [
    "df.isnull().sum()"
   ]
  },
  {
   "cell_type": "code",
   "execution_count": 8,
   "id": "e1f1697e",
   "metadata": {},
   "outputs": [
    {
     "data": {
      "text/plain": [
       "['address', 'zipcode', 'cuisines', 'timings', 'opentable_support']"
      ]
     },
     "execution_count": 8,
     "metadata": {},
     "output_type": "execute_result"
    }
   ],
   "source": [
    "[features for features in df.columns if df[features].isnull().sum()>0]"
   ]
  },
  {
   "cell_type": "code",
   "execution_count": 9,
   "id": "81b06389",
   "metadata": {},
   "outputs": [
    {
     "data": {
      "text/plain": [
       "<Axes: >"
      ]
     },
     "execution_count": 9,
     "metadata": {},
     "output_type": "execute_result"
    },
    {
     "data": {
      "image/png": "[encoded data removed]",
      "text/plain": [
       "<Figure size 640x480 with 1 Axes>"
      ]
     },
     "metadata": {},
     "output_type": "display_data"
    }
   ],
   "source": [
    "sns.heatmap(df.isnull(), yticklabels=False, cbar= False, cmap='viridis')"
   ]
  },
  {
   "cell_type": "code",
   "execution_count": 10,
   "id": "b7a3ec0e",
   "metadata": {},
   "outputs": [
    {
     "data": {
      "text/plain": [
       "zipcode\n",
       "0             7100\n",
       "0.0           2757\n",
       "482001         918\n",
       "313001         750\n",
       "305001         578\n",
       "              ... \n",
       "700028           1\n",
       "Kolkata-20       1\n",
       "27               1\n",
       "700124           1\n",
       "390004.0         1\n",
       "Name: count, Length: 1311, dtype: int64"
      ]
     },
     "execution_count": 10,
     "metadata": {},
     "output_type": "execute_result"
    }
   ],
   "source": [
    "df.zipcode.value_counts()"
   ]
  },
  {
   "cell_type": "code",
   "execution_count": 11,
   "id": "291f66c5",
   "metadata": {},
   "outputs": [
    {
     "name": "stdout",
     "output_type": "stream",
     "text": [
      "Index(['0', '0.0', '482001', '313001', '305001', '226010', '248001.0',\n",
      "       '605001.0', '603203', '482002',\n",
      "       ...\n",
      "       '560090', '5600038', '560059', '324001.0', '560 102', '700028',\n",
      "       'Kolkata-20', '27', '700124', '390004.0'],\n",
      "      dtype='object', name='zipcode', length=1311)\n"
     ]
    }
   ],
   "source": [
    "zc = df.zipcode.value_counts().index\n",
    "print(zc)"
   ]
  },
  {
   "cell_type": "code",
   "execution_count": 12,
   "id": "48d383b5",
   "metadata": {},
   "outputs": [
    {
     "name": "stdout",
     "output_type": "stream",
     "text": [
      "[7100 2757  918 ...    1    1    1]\n"
     ]
    }
   ],
   "source": [
    "zv = df.zipcode.value_counts().values\n",
    "print(zv)"
   ]
  },
  {
   "cell_type": "code",
   "execution_count": 13,
   "id": "864659ea",
   "metadata": {},
   "outputs": [
    {
     "data": {
      "text/plain": [
       "0         NaN\n",
       "1    282001.0\n",
       "2    282010.0\n",
       "3    282002.0\n",
       "4         NaN\n",
       "Name: zipcode, dtype: object"
      ]
     },
     "execution_count": 13,
     "metadata": {},
     "output_type": "execute_result"
    }
   ],
   "source": [
    "df.zipcode.head()"
   ]
  },
  {
   "cell_type": "code",
   "execution_count": 14,
   "id": "920498c1",
   "metadata": {},
   "outputs": [],
   "source": [
    "df = df.fillna(0)"
   ]
  },
  {
   "cell_type": "code",
   "execution_count": 15,
   "id": "7c94e4dc",
   "metadata": {},
   "outputs": [
    {
     "data": {
      "text/plain": [
       "0           0\n",
       "1    282001.0\n",
       "2    282010.0\n",
       "3    282002.0\n",
       "4           0\n",
       "Name: zipcode, dtype: object"
      ]
     },
     "execution_count": 15,
     "metadata": {},
     "output_type": "execute_result"
    }
   ],
   "source": [
    "df.zipcode.head()"
   ]
  },
  {
   "cell_type": "code",
   "execution_count": 16,
   "id": "2f228254",
   "metadata": {},
   "outputs": [
    {
     "data": {
      "text/plain": [
       "zipcode\n",
       "0             163187\n",
       "0               7100\n",
       "0.0             2757\n",
       "482001           918\n",
       "313001           750\n",
       "               ...  \n",
       "700028             1\n",
       "Kolkata-20         1\n",
       "27                 1\n",
       "700124             1\n",
       "390004.0           1\n",
       "Name: count, Length: 1312, dtype: int64"
      ]
     },
     "execution_count": 16,
     "metadata": {},
     "output_type": "execute_result"
    }
   ],
   "source": [
    "df.zipcode.value_counts()"
   ]
  },
  {
   "cell_type": "code",
   "execution_count": 17,
   "id": "0efb02e2",
   "metadata": {},
   "outputs": [
    {
     "data": {
      "text/plain": [
       "<Axes: >"
      ]
     },
     "execution_count": 17,
     "metadata": {},
     "output_type": "execute_result"
    },
    {
     "data": {
      "image/png": "[encoded data removed]",
      "text/plain": [
       "<Figure size 640x480 with 1 Axes>"
      ]
     },
     "metadata": {},
     "output_type": "display_data"
    }
   ],
   "source": [
    "sns.heatmap(df.isnull(), yticklabels=False, cbar= False, cmap='viridis')"
   ]
  },
  {
   "cell_type": "code",
   "execution_count": 18,
   "id": "53091794",
   "metadata": {},
   "outputs": [
    {
     "name": "stdout",
     "output_type": "stream",
     "text": [
      "          res_id                            name      establishment  \\\n",
      "0        3400299                     Bikanervala    ['Quick Bites']   \n",
      "1        3400005  Mama Chicken Mama Franky House    ['Quick Bites']   \n",
      "2        3401013                   Bhagat Halwai    ['Quick Bites']   \n",
      "3        3400290                   Bhagat Halwai    ['Quick Bites']   \n",
      "4        3401744     The Salt Cafe Kitchen & Bar  ['Casual Dining']   \n",
      "...          ...                             ...                ...   \n",
      "211939   3202251  Kali Mirch Cafe And Restaurant  ['Casual Dining']   \n",
      "211940   3200996                      Raju Omlet    ['Quick Bites']   \n",
      "211941  18984164                The Grand Thakar  ['Casual Dining']   \n",
      "211942   3201138                          Subway    ['Quick Bites']   \n",
      "211943  18879846     Freshco's - The Health Cafe           ['Café']   \n",
      "\n",
      "                                                      url  \\\n",
      "0       https://www.zomato.com/agra/bikanervala-khanda...   \n",
      "1       https://www.zomato.com/agra/mama-chicken-mama-...   \n",
      "2       https://www.zomato.com/agra/bhagat-halwai-2-sh...   \n",
      "3       https://www.zomato.com/agra/bhagat-halwai-civi...   \n",
      "4       https://www.zomato.com/agra/the-salt-cafe-kitc...   \n",
      "...                                                   ...   \n",
      "211939  https://www.zomato.com/vadodara/kali-mirch-caf...   \n",
      "211940  https://www.zomato.com/vadodara/raju-omlet-kar...   \n",
      "211941  https://www.zomato.com/vadodara/the-grand-thak...   \n",
      "211942  https://www.zomato.com/vadodara/subway-1-akota...   \n",
      "211943  https://www.zomato.com/vadodara/freshcos-the-h...   \n",
      "\n",
      "                                                  address      city  city_id  \\\n",
      "0       Kalyani Point, Near Tulsi Cinema, Bypass Road,...      Agra       34   \n",
      "1             Main Market, Sadar Bazaar, Agra Cantt, Agra      Agra       34   \n",
      "2       62/1, Near Easy Day, West Shivaji Nagar, Goalp...      Agra       34   \n",
      "3       Near Anjana Cinema, Nehru Nagar, Civil Lines, ...      Agra       34   \n",
      "4             1C,3rd Floor, Fatehabad Road, Tajganj, Agra      Agra       34   \n",
      "...                                                   ...       ...      ...   \n",
      "211939  Manu Smriti Complex, Near Navrachna School, GI...  Vadodara       32   \n",
      "211940  Mahalaxmi Apartment, Opposite B O B, Karoli Ba...  Vadodara       32   \n",
      "211941  3rd Floor, Shreem Shalini Mall, Opposite Conqu...  Vadodara       32   \n",
      "211942  G-2, Vedant Platina, Near Cosmos, Akota, Vadodara  Vadodara       32   \n",
      "211943  Shop 7, Ground Floor, Opposite Natubhai Circle...  Vadodara       32   \n",
      "\n",
      "           locality   latitude  longitude  ...  zipcode_Bangalore  \\\n",
      "0          Khandari  27.211450  78.002381  ...              False   \n",
      "1        Agra Cantt  27.160569  78.011583  ...              False   \n",
      "2          Shahganj  27.182938  77.979684  ...              False   \n",
      "3       Civil Lines  27.205668  78.004799  ...              False   \n",
      "4           Tajganj  27.157709  78.052421  ...              False   \n",
      "...             ...        ...        ...  ...                ...   \n",
      "211939    Fatehgunj  22.336931  73.192356  ...              False   \n",
      "211940   Karelibaug  22.322455  73.197203  ...              False   \n",
      "211941     Alkapuri  22.310563  73.171163  ...              False   \n",
      "211942        Akota  22.270027  73.143068  ...              False   \n",
      "211943     Vadiwadi  22.309935  73.158768  ...              False   \n",
      "\n",
      "       zipcode_Beside and zipcode_Chennai 60 zipcode_Delhi-1100  \\\n",
      "0                   False              False              False   \n",
      "1                   False              False              False   \n",
      "2                   False              False              False   \n",
      "3                   False              False              False   \n",
      "4                   False              False              False   \n",
      "...                   ...                ...                ...   \n",
      "211939              False              False              False   \n",
      "211940              False              False              False   \n",
      "211941              False              False              False   \n",
      "211942              False              False              False   \n",
      "211943              False              False              False   \n",
      "\n",
      "        zipcode_Kolkata 91  zipcode_Kolkata-20 zipcode_Shop no. S  \\\n",
      "0                    False               False              False   \n",
      "1                    False               False              False   \n",
      "2                    False               False              False   \n",
      "3                    False               False              False   \n",
      "4                    False               False              False   \n",
      "...                    ...                 ...                ...   \n",
      "211939               False               False              False   \n",
      "211940               False               False              False   \n",
      "211941               False               False              False   \n",
      "211942               False               False              False   \n",
      "211943               False               False              False   \n",
      "\n",
      "       zipcode_absoluteba  zipcode_opp.tara m zipcode_ 700136  \n",
      "0                   False               False           False  \n",
      "1                   False               False           False  \n",
      "2                   False               False           False  \n",
      "3                   False               False           False  \n",
      "4                   False               False           False  \n",
      "...                   ...                 ...             ...  \n",
      "211939              False               False           False  \n",
      "211940              False               False           False  \n",
      "211941              False               False           False  \n",
      "211942              False               False           False  \n",
      "211943              False               False           False  \n",
      "\n",
      "[211944 rows x 1337 columns]\n"
     ]
    }
   ],
   "source": [
    "dfE = pd.get_dummies(df, columns=['zipcode'])\n",
    "print(dfE)"
   ]
  },
  {
   "cell_type": "code",
   "execution_count": 19,
   "id": "08a9987a",
   "metadata": {},
   "outputs": [
    {
     "data": {
      "text/plain": [
       "[]"
      ]
     },
     "execution_count": 19,
     "metadata": {},
     "output_type": "execute_result"
    }
   ],
   "source": [
    "[features for features in df.columns if df[features].isnull().sum()>0]"
   ]
  },
  {
   "cell_type": "code",
   "execution_count": 20,
   "id": "d1cd6e56",
   "metadata": {},
   "outputs": [
    {
     "data": {
      "text/plain": [
       "Index(['res_id', 'name', 'establishment', 'url', 'address', 'city', 'city_id',\n",
       "       'locality', 'latitude', 'longitude', 'zipcode', 'country_id',\n",
       "       'locality_verbose', 'cuisines', 'timings', 'average_cost_for_two',\n",
       "       'price_range', 'currency', 'highlights', 'aggregate_rating',\n",
       "       'rating_text', 'votes', 'photo_count', 'opentable_support', 'delivery',\n",
       "       'takeaway'],\n",
       "      dtype='object')"
      ]
     },
     "execution_count": 20,
     "metadata": {},
     "output_type": "execute_result"
    }
   ],
   "source": [
    "df.columns"
   ]
  },
  {
   "cell_type": "markdown",
   "id": "09404158",
   "metadata": {},
   "source": [
    "Exploratory Data Analysis:"
   ]
  },
  {
   "cell_type": "code",
   "execution_count": null,
   "id": "28574cd0",
   "metadata": {},
   "outputs": [],
   "source": [
    "df.describe()"
   ]
  },
  {
   "cell_type": "code",
   "execution_count": null,
   "id": "d9ce1416",
   "metadata": {},
   "outputs": [],
   "source": [
    "df['price_range'].describe()"
   ]
  },
  {
   "cell_type": "code",
   "execution_count": null,
   "id": "37efae42",
   "metadata": {},
   "outputs": [],
   "source": [
    "df['price_range'].var()"
   ]
  },
  {
   "cell_type": "code",
   "execution_count": null,
   "id": "290b2f82",
   "metadata": {},
   "outputs": [],
   "source": [
    "df['price_range'].std()"
   ]
  },
  {
   "cell_type": "code",
   "execution_count": null,
   "id": "ee8334f9",
   "metadata": {},
   "outputs": [],
   "source": [
    "#Distribution of Ratings\n",
    "\n",
    "sns.histplot(df['aggregate_rating'], kde=True)\n",
    "plt.title('Rating Distrution', color='blue')\n",
    "plt.xlabel('Ratings')\n",
    "plt.ylabel('Frequency')\n",
    "plt.show()"
   ]
  },
  {
   "cell_type": "code",
   "execution_count": null,
   "id": "269ecafa",
   "metadata": {},
   "outputs": [],
   "source": [
    "#Bar Chart for price range\n",
    "\n",
    "price_counts = df['price_range'].value_counts().sort_index()\n",
    "sns.barplot(x=price_counts.index, y=price_counts.values)\n",
    "plt.title('Distribution of Price Range')\n",
    "plt.xlabel('Price Range')\n",
    "plt.ylabel('Number of Restaurents')\n",
    "plt.show()\n"
   ]
  },
  {
   "cell_type": "code",
   "execution_count": null,
   "id": "50849424",
   "metadata": {},
   "outputs": [],
   "source": [
    "# #Cuisine Distribution\n",
    "\n",
    "# top_cuisines = df['cuisines'].value_counts().head(20).index\n",
    "# sns.countplot(data=df, x='cuisines')\n",
    "# plt.title('Cuisine Popularity')\n",
    "# plt.xlabel('Cuisines')\n",
    "# plt.ylabel('Number of Restaurants')\n",
    "# plt.show()"
   ]
  },
  {
   "cell_type": "code",
   "execution_count": null,
   "id": "357927c3",
   "metadata": {},
   "outputs": [],
   "source": [
    "#Distribution of Cuisines by Region\n",
    "\n",
    "plt.figure(figsize=(12, 6))\n",
    "sns.countplot(df['cuisines'])\n",
    "plt.title('Distribution of Cuisines by Region')\n",
    "plt.xlabel('Cuisines')\n",
    "plt.ylabel('Number of Restaurants')\n",
    "plt.xticks(rotation=45)\n",
    "plt.show()"
   ]
  },
  {
   "cell_type": "code",
   "execution_count": null,
   "id": "f592872e",
   "metadata": {},
   "outputs": [],
   "source": [
    "#Average Ratings by Region\n",
    "\n",
    "plt.figure(figsize=(10, 5))\n",
    "sns.barplot(df['region'].mean)\n",
    "plt.title('Average Ratings by Region')\n",
    "plt.show()\n"
   ]
  },
  {
   "cell_type": "code",
   "execution_count": null,
   "id": "b0dd6f91",
   "metadata": {},
   "outputs": [],
   "source": [
    "#Price Range Comparison\n",
    "\n",
    "plt.figure(figsize=(10, 5))\n",
    "sns.countplot(df['price_range'])\n",
    "plt.title('Comparison of Price Ranges Across Regions')\n",
    "plt.show()\n"
   ]
  },
  {
   "cell_type": "code",
   "execution_count": null,
   "id": "b647534a",
   "metadata": {},
   "outputs": [],
   "source": [
    "df.columns"
   ]
  },
  {
   "cell_type": "code",
   "execution_count": null,
   "id": "13853735",
   "metadata": {},
   "outputs": [],
   "source": [
    "#Dining Format Preferences\n",
    "\n",
    "sns.countplot(df['timings'])\n",
    "plt.title('Dining Format Preferences Across Regions')\n",
    "plt.show()\n"
   ]
  },
  {
   "cell_type": "code",
   "execution_count": null,
   "id": "dd6d2a03",
   "metadata": {},
   "outputs": [],
   "source": [
    "#Analyze Cuisines Popularity by Region\n",
    "\n",
    "plt.figure(figsize=(12, 6))\n",
    "sns.countplot(df['cuisine'])\n",
    "plt.title('Popularity of Cuisines in Different Regions')\n",
    "plt.xlabel('Cuisine')\n",
    "plt.ylabel('Frequency')\n",
    "plt.xticks(rotation=45)\n",
    "plt.legend(title='Region')\n",
    "plt.show()\n"
   ]
  },
  {
   "cell_type": "code",
   "execution_count": null,
   "id": "d2b9f868",
   "metadata": {},
   "outputs": [],
   "source": [
    "#Examine Relationships Using Scatter Plots and Correlation Analysis\n",
    "\n",
    "plt.figure(figsize=(10, 5))\n",
    "sns.scatterplot(x='ratings', y='number_of_reviews', hue='price_range')\n",
    "plt.title('Relationship Between Ratings and Popularity Across Price Ranges')\n",
    "plt.xlabel('Ratings')\n",
    "plt.ylabel('Number of Reviews (Popularity)')\n",
    "plt.legend(title='Price Range')\n",
    "plt.show()\n"
   ]
  },
  {
   "cell_type": "code",
   "execution_count": null,
   "id": "17a013bb",
   "metadata": {},
   "outputs": [],
   "source": [
    "#Identify Major Competitors by Region\n",
    "\n",
    "top_competitors = df.groupby('city').head(5)\n",
    "\n",
    "plt.figure(figsize=(12, 8))\n",
    "sns.barplot(df=top_competitors, x='name', y='aggregate_rating', hue='region')\n",
    "plt.title('Top Competitors by Region Based on Ratings')\n",
    "plt.xlabel('Restaurant Name')\n",
    "plt.ylabel('Average Rating')\n",
    "plt.xticks(rotation=45)\n",
    "plt.legend(title='Region')\n",
    "plt.show()\n"
   ]
  },
  {
   "cell_type": "code",
   "execution_count": null,
   "id": "4392b1f6",
   "metadata": {},
   "outputs": [],
   "source": [
    "#Analyze Cuisine and Price Range Distribution\n",
    "\n",
    "cuisine_distribution = df.groupby(['city', 'cuisines']).size().unstack(fill_value=0)\n",
    "\n",
    "plt.figure(figsize=(12, 8))\n",
    "sns.heatmap(cuisine_distribution, annot=True, fmt=\"d\", cmap=\"YlGnBu\")\n",
    "plt.title('Cuisine Distribution by Region')\n",
    "plt.ylabel('Region')\n",
    "plt.xlabel('Cuisine')\n",
    "plt.xticks(rotation=45)\n",
    "plt.show()\n"
   ]
  },
  {
   "cell_type": "code",
   "execution_count": null,
   "id": "d024c14b",
   "metadata": {},
   "outputs": [],
   "source": []
  }
 ],
 "metadata": {
  "kernelspec": {
   "display_name": "Python 3 (ipykernel)",
   "language": "python",
   "name": "python3"
  },
  "language_info": {
   "codemirror_mode": {
    "name": "ipython",
    "version": 3
   },
   "file_extension": ".py",
   "mimetype": "text/x-python",
   "name": "python",
   "nbconvert_exporter": "python",
   "pygments_lexer": "ipython3",
   "version": "3.12.2"
  }
 },
 "nbformat": 4,
 "nbformat_minor": 5
}
